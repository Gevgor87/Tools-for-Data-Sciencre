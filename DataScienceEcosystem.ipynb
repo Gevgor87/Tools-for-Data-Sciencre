{
 "cells": [
  {
   "cell_type": "markdown",
   "id": "ae8a1f0b",
   "metadata": {},
   "source": [
    "<H1>Data Science Tools and Ecosystem"
   ]
  },
  {
   "cell_type": "markdown",
   "id": "85735235",
   "metadata": {},
   "source": [
    "In this notebook, Data Science Tools and Ecosystem are summarized."
   ]
  },
  {
   "cell_type": "markdown",
   "id": "2c330ff1",
   "metadata": {},
   "source": [
    "Horizontal Rule\n",
    "-----------------------\n",
    "jupyter\n",
    "\n",
    "R-studio\n",
    "\n",
    "zeppelin\n"
   ]
  },
  {
   "cell_type": "markdown",
   "id": "a1e02566",
   "metadata": {},
   "source": [
    "Some of the popular languages that Data Scientists use are:"
   ]
  },
  {
   "cell_type": "markdown",
   "id": "1378780e",
   "metadata": {},
   "source": [
    "-Python: Python is one of the most widely used programming languages in data science. It has a vast array of libraries and tools for data manipulation, analysis, and visualization, including popular libraries like NumPy, Pandas, and Matplotlib.\n",
    "\n",
    "-R: R is a language specifically designed for statistical computing and data visualization. It has a large collection of libraries and packages, making it a popular choice for data analysis and visualization.\n",
    "\n",
    "-SQL: Structured Query Language (SQL) is used to communicate with and manage databases. It is essential for data scientists who work with large datasets that are stored in databases.\n",
    "\n",
    "-Java: Java is another popular programming language that data scientists use, especially for building large-scale applications that process and analyze large datasets"
   ]
  },
  {
   "cell_type": "markdown",
   "id": "efdfa9f0",
   "metadata": {},
   "source": [
    "<H3>Some of the commonly used libraries used by Data Scientists include:"
   ]
  },
  {
   "cell_type": "markdown",
   "id": "00222d5b",
   "metadata": {},
   "source": [
    "-NumPy"
   ]
  },
  {
   "cell_type": "markdown",
   "id": "7ab86991",
   "metadata": {},
   "source": [
    "-Pandas\n"
   ]
  },
  {
   "cell_type": "markdown",
   "id": "fa2494a5",
   "metadata": {},
   "source": [
    "-Matplotlib\n"
   ]
  },
  {
   "cell_type": "markdown",
   "id": "5e930d7d",
   "metadata": {},
   "source": [
    "-Seaborn"
   ]
  },
  {
   "cell_type": "markdown",
   "id": "3f853b90",
   "metadata": {},
   "source": [
    "| Data Science  | Types         | Name       |\n",
    "| ------------- |:-------------:|:----------:|\n",
    "| 1             | 2             |3           |"
   ]
  },
  {
   "cell_type": "markdown",
   "id": "04fb7069",
   "metadata": {},
   "source": [
    "<H3>Below are a few examples of evaluating arithmetic expressions in Python"
   ]
  },
  {
   "cell_type": "code",
   "execution_count": 6,
   "id": "9a3ba8af",
   "metadata": {},
   "outputs": [
    {
     "data": {
      "text/plain": [
       "17"
      ]
     },
     "execution_count": 6,
     "metadata": {},
     "output_type": "execute_result"
    }
   ],
   "source": [
    "# This a simple arithmetic expression to mutiply then add integers\n",
    "(3*4)+5"
   ]
  },
  {
   "cell_type": "code",
   "execution_count": 8,
   "id": "d01b8dec",
   "metadata": {},
   "outputs": [
    {
     "data": {
      "text/plain": [
       "3.3333333333333335"
      ]
     },
     "execution_count": 8,
     "metadata": {},
     "output_type": "execute_result"
    }
   ],
   "source": [
    "# This will convert 200 minutes to hours by diving by 60\n",
    "minuts = 200\n",
    "hours = minuts/60\n",
    "hours"
   ]
  },
  {
   "cell_type": "markdown",
   "id": "916f8a96",
   "metadata": {},
   "source": [
    "<H2>Author"
   ]
  },
  {
   "cell_type": "markdown",
   "id": "fb9c68dd",
   "metadata": {},
   "source": [
    "Gor Gevorgyan"
   ]
  },
  {
   "cell_type": "code",
   "execution_count": null,
   "id": "b171ab85",
   "metadata": {},
   "outputs": [],
   "source": []
  }
 ],
 "metadata": {
  "kernelspec": {
   "display_name": "Python 3 (ipykernel)",
   "language": "python",
   "name": "python3"
  },
  "language_info": {
   "codemirror_mode": {
    "name": "ipython",
    "version": 3
   },
   "file_extension": ".py",
   "mimetype": "text/x-python",
   "name": "python",
   "nbconvert_exporter": "python",
   "pygments_lexer": "ipython3",
   "version": "3.11.1"
  }
 },
 "nbformat": 4,
 "nbformat_minor": 5
}
